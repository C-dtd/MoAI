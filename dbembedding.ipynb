{
 "cells": [
  {
   "cell_type": "code",
   "execution_count": 1,
   "metadata": {},
   "outputs": [],
   "source": [
    "import psycopg2\n",
    "from psycopg2 import pool\n",
    "\n",
    "dbcp = psycopg2.pool.SimpleConnectionPool(1, 20,\n",
    "    user='postgres.vpcdvbdktvvzrvjfyyzm',\n",
    "    password='Odvv8E1iChKjwai4',\n",
    "    host='aws-0-ap-southeast-1.pooler.supabase.com',\n",
    "    port=6543,\n",
    "    dbname='postgres'\n",
    ")"
   ]
  },
  {
   "cell_type": "code",
   "execution_count": 69,
   "metadata": {},
   "outputs": [
    {
     "name": "stdout",
     "output_type": "stream",
     "text": [
      "2024-09-02 07:15:37.078689+00:00에 name이(가) 'ff'라 말함.\n",
      "2024-09-02 02:19:18.073358+00:00에 name이(가) '아아아'라 말함.\n",
      "2024-08-31 02:47:46.961344+00:00에 name이(가) '1'라 말함.\n",
      "2024-08-31 02:47:46.465756+00:00에 name이(가) '1'라 말함.\n",
      "2024-08-31 02:47:45.993223+00:00에 name이(가) '1'라 말함.\n",
      "2024-08-31 02:47:44.431099+00:00에 name이(가) '12'라 말함.\n",
      "2024-08-31 02:47:43.705302+00:00에 name이(가) '1'라 말함.\n",
      "2024-08-31 00:36:04.373925+00:00에 name이(가) 'fd'라 말함.\n",
      "2024-08-31 00:19:59.554872+00:00에 name이(가) '123'라 말함.\n",
      "2024-08-31 00:17:42.781548+00:00에 name이(가) '123'라 말함.\n",
      "2024-08-31 00:17:33.901818+00:00에 name이(가) '0001'라 말함.\n",
      "2024-08-31 00:16:42.773782+00:00에 name이(가) '상위메세지'라 말함.\n",
      "2024-08-31 00:16:05.933073+00:00에 name이(가) 'tet'라 말함.\n",
      "2024-09-05T00:00:00부터 2024-09-26T00:00:00까지 일정: '알려지지않은 일정'이 있습니다.\n"
     ]
    }
   ],
   "source": [
    "db = dbcp.getconn()\n",
    "cur = db.cursor()\n",
    "cur.execute(\"select cl.chat_at, u.user_name, cl.chat from chat_logs cl join users u on cl.user_id = u.user_id where type = 'text' and room_id in (select room_id from room_users where user_id = %s)\",\n",
    "            ('user_id',))\n",
    "chat_rows = cur.fetchall()\n",
    "cur.execute(\"select title, start_date, end_date, location from calandars where user_id = %s or id in (select calendar_id from calendar_shared )\",\n",
    "            ('user00',))\n",
    "cal_rows = cur.fetchall()\n",
    "dbcp.putconn(db)\n",
    "\n",
    "db_split = []\n",
    "\n",
    "for row in chat_rows:\n",
    "    _ = '\\n'\n",
    "    db_split.append(f\"{row[0]}에 {row[1]}이(가) '{row[2].replace(_, '')}'라 말함.\")\n",
    "for row in rows:\n",
    "    t = f\"{row[1]}부터 {row[2]}까지 일정: '{row[0]}'이 {row[3] +'에서 ' if row[3] else ''}있습니다.\"\n",
    "    print(t)"
   ]
  }
 ],
 "metadata": {
  "kernelspec": {
   "display_name": "base",
   "language": "python",
   "name": "python3"
  },
  "language_info": {
   "codemirror_mode": {
    "name": "ipython",
    "version": 3
   },
   "file_extension": ".py",
   "mimetype": "text/x-python",
   "name": "python",
   "nbconvert_exporter": "python",
   "pygments_lexer": "ipython3",
   "version": "3.11.7"
  }
 },
 "nbformat": 4,
 "nbformat_minor": 2
}
