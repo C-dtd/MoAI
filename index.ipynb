{
 "cells": [
  {
   "cell_type": "markdown",
   "metadata": {},
   "source": [
    "%pip install -r requirments.txt --force"
   ]
  },
  {
   "cell_type": "code",
   "execution_count": 2,
   "metadata": {},
   "outputs": [],
   "source": [
    "from flask_socketio import SocketIO, emit, join_room, leave_room\n",
    "from flask import *\n",
    "from flask_login import *"
   ]
  },
  {
   "cell_type": "code",
   "execution_count": 11,
   "metadata": {},
   "outputs": [
    {
     "name": "stderr",
     "output_type": "stream",
     "text": [
      "Werkzeug appears to be used in a production deployment. Consider switching to a production web server instead.\n"
     ]
    },
    {
     "name": "stdout",
     "output_type": "stream",
     "text": [
      " * Serving Flask app '__main__'\n",
      " * Debug mode: off\n"
     ]
    },
    {
     "name": "stderr",
     "output_type": "stream",
     "text": [
      "WARNING: This is a development server. Do not use it in a production deployment. Use a production WSGI server instead.\n",
      " * Running on http://localhost:5000\n",
      "Press CTRL+C to quit\n",
      "127.0.0.1 - - [06/Aug/2024 09:08:38] \"GET / HTTP/1.1\" 200 -\n",
      "127.0.0.1 - - [06/Aug/2024 09:08:42] \"POST /login HTTP/1.1\" 200 -\n",
      "127.0.0.1 - - [06/Aug/2024 09:08:42] \"GET / HTTP/1.1\" 200 -\n",
      "127.0.0.1 - - [06/Aug/2024 09:08:44] \"GET /logout HTTP/1.1\" 302 -\n",
      "127.0.0.1 - - [06/Aug/2024 09:08:44] \"GET / HTTP/1.1\" 200 -\n"
     ]
    }
   ],
   "source": [
    "app = Flask(__name__)\n",
    "app.secret_key = \"mkqw2o0@#mk12!mk3\"\n",
    "socketio = SocketIO(app)\n",
    "lm = LoginManager()\n",
    "lm.init_app(app)\n",
    "\n",
    "@lm.user_loader\n",
    "def user_loader(userId):\n",
    "    userInfo = User.get_user_info(userId)\n",
    "    return User(userInfo)\n",
    "\n",
    "@lm.unauthorized_handler\n",
    "def unauthorized():\n",
    "    return redirect('/')\n",
    "\n",
    "#region CLASS\n",
    "\n",
    "class User(UserMixin):\n",
    "    def __init__(self, info):\n",
    "        self.info = info\n",
    "    \n",
    "    #region getter\n",
    "\n",
    "    def get_id(self):\n",
    "        return self.info['userId']\n",
    "\n",
    "    #endregion\n",
    "    \n",
    "    @staticmethod\n",
    "    def get_user_info(userId):\n",
    "        return {'userId': userId}\n",
    "\n",
    "#endregion\n",
    "\n",
    "#region route\n",
    "\n",
    "@app.route('/')\n",
    "def index():\n",
    "    return render_template('index.html')\n",
    "\n",
    "@app.route('/chatroom', methods = ['post'])\n",
    "def chatroom():\n",
    "    params = request.form\n",
    "    userId = params['userId']\n",
    "    roomId = params['roomId']\n",
    "    \n",
    "    session['userId'] = userId\n",
    "    session['roomId'] = roomId\n",
    "    \n",
    "    return render_template(\n",
    "        'chat.html',\n",
    "        userId = userId,\n",
    "        roomId = roomId\n",
    "    )\n",
    "\n",
    "@app.route('/login', methods = ['post'])\n",
    "def login():\n",
    "    params = request.get_json()\n",
    "    userId = params['userId']\n",
    "    \n",
    "    userInfo = User.get_user_info(userId)\n",
    "    login_user(User(userInfo))\n",
    "    return jsonify({'result': 1})\n",
    "\n",
    "@app.route('/logout')\n",
    "def logout():\n",
    "    logout_user()\n",
    "    return redirect('/')\n",
    "\n",
    "#endregion\n",
    "\n",
    "#region socket\n",
    "\n",
    "@socketio.on('joined', namespace = '/chatroom')\n",
    "def chat_joined(d):\n",
    "    roomId = session.get('roomId')\n",
    "    print('joined', roomId)\n",
    "    join_room(roomId)\n",
    "    socketio.emit('join', d)\n",
    "\n",
    "@socketio.on('msg', namespace = '/chatroom')\n",
    "def socket_msg(d):\n",
    "    roomId = session.get('roomId')\n",
    "    print('msg', d)\n",
    "    socketio.emit('msg', d, namespace = '/chatroom', room = roomId)\n",
    "\n",
    "#endregion\n",
    "\n",
    "if __name__ == '__main__':\n",
    "    socketio.run(app = app, host = 'localhost', port = 5000, allow_unsafe_werkzeug = True)"
   ]
  }
 ],
 "metadata": {
  "kernelspec": {
   "display_name": "base",
   "language": "python",
   "name": "python3"
  },
  "language_info": {
   "codemirror_mode": {
    "name": "ipython",
    "version": 3
   },
   "file_extension": ".py",
   "mimetype": "text/x-python",
   "name": "python",
   "nbconvert_exporter": "python",
   "pygments_lexer": "ipython3",
   "version": "3.11.7"
  }
 },
 "nbformat": 4,
 "nbformat_minor": 2
}
